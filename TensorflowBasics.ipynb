{
  "nbformat": 4,
  "nbformat_minor": 0,
  "metadata": {
    "colab": {
      "provenance": [],
      "authorship_tag": "ABX9TyPIw4oVIMDJ0TF3cL7GtlnD",
      "include_colab_link": true
    },
    "kernelspec": {
      "name": "python3",
      "display_name": "Python 3"
    },
    "language_info": {
      "name": "python"
    },
    "accelerator": "GPU",
    "gpuClass": "standard"
  },
  "cells": [
    {
      "cell_type": "markdown",
      "metadata": {
        "id": "view-in-github",
        "colab_type": "text"
      },
      "source": [
        "<a href=\"https://colab.research.google.com/github/avi78/Calc/blob/main/TensorflowBasics.ipynb\" target=\"_parent\"><img src=\"https://colab.research.google.com/assets/colab-badge.svg\" alt=\"Open In Colab\"/></a>"
      ]
    },
    {
      "cell_type": "code",
      "execution_count": 1,
      "metadata": {
        "id": "QRhk2hXAsvEi"
      },
      "outputs": [],
      "source": [
        "import tensorflow as tf\n"
      ]
    },
    {
      "cell_type": "code",
      "source": [
        "scalar =tf.constant(10)"
      ],
      "metadata": {
        "id": "puFJzzV3tCXI"
      },
      "execution_count": 3,
      "outputs": []
    },
    {
      "cell_type": "code",
      "source": [
        "type(scalar)"
      ],
      "metadata": {
        "colab": {
          "base_uri": "https://localhost:8080/"
        },
        "id": "drHl8rRgto9y",
        "outputId": "e2f67d4c-8ed2-4a86-cfa3-16a0bb5aff22"
      },
      "execution_count": 4,
      "outputs": [
        {
          "output_type": "execute_result",
          "data": {
            "text/plain": [
              "tensorflow.python.framework.ops.EagerTensor"
            ]
          },
          "metadata": {},
          "execution_count": 4
        }
      ]
    },
    {
      "cell_type": "code",
      "source": [
        "scalar.numpy()\n"
      ],
      "metadata": {
        "colab": {
          "base_uri": "https://localhost:8080/"
        },
        "id": "Ic-wacWot00g",
        "outputId": "823c361e-513f-401b-9e67-a6083882a90e"
      },
      "execution_count": 7,
      "outputs": [
        {
          "output_type": "execute_result",
          "data": {
            "text/plain": [
              "10"
            ]
          },
          "metadata": {},
          "execution_count": 7
        }
      ]
    },
    {
      "cell_type": "code",
      "source": [
        "scalar.dtype   "
      ],
      "metadata": {
        "colab": {
          "base_uri": "https://localhost:8080/"
        },
        "id": "rnND2YhjuDq_",
        "outputId": "5785d0c6-06a0-4372-8dd2-54acd1a454fe"
      },
      "execution_count": 8,
      "outputs": [
        {
          "output_type": "execute_result",
          "data": {
            "text/plain": [
              "tf.int32"
            ]
          },
          "metadata": {},
          "execution_count": 8
        }
      ]
    },
    {
      "cell_type": "code",
      "source": [
        "vectors= tf.constant([[1,2,3,4]])"
      ],
      "metadata": {
        "id": "82S08sZJuYR5"
      },
      "execution_count": 13,
      "outputs": []
    },
    {
      "cell_type": "code",
      "source": [
        "vectors"
      ],
      "metadata": {
        "colab": {
          "base_uri": "https://localhost:8080/"
        },
        "id": "TWHbl2Uxuqe_",
        "outputId": "6ce9e242-254a-4ce5-feca-ad729bfd30ac"
      },
      "execution_count": 14,
      "outputs": [
        {
          "output_type": "execute_result",
          "data": {
            "text/plain": [
              "<tf.Tensor: shape=(1, 4), dtype=int32, numpy=array([[1, 2, 3, 4]], dtype=int32)>"
            ]
          },
          "metadata": {},
          "execution_count": 14
        }
      ]
    },
    {
      "cell_type": "code",
      "source": [
        "print(vectors.shape)\n",
        "print(vectors.dtype)   #datatype\n",
        "print(vectors.numpy())"
      ],
      "metadata": {
        "colab": {
          "base_uri": "https://localhost:8080/"
        },
        "id": "zdO5RI5zusA-",
        "outputId": "4dde3b24-61d3-46b1-8e5c-ffe677b226ce"
      },
      "execution_count": 17,
      "outputs": [
        {
          "output_type": "stream",
          "name": "stdout",
          "text": [
            "(1, 4)\n",
            "<dtype: 'int32'>\n",
            "[[1 2 3 4]]\n"
          ]
        }
      ]
    },
    {
      "cell_type": "code",
      "source": [
        "vectors= tf.constant([[1,2,3,4],[2,4,34,45]])"
      ],
      "metadata": {
        "id": "pg4dx5uEuryR"
      },
      "execution_count": 18,
      "outputs": []
    },
    {
      "cell_type": "code",
      "source": [
        "print(vectors.shape)\n",
        "print(vectors.dtype)   #datatype\n",
        "print(vectors.numpy())"
      ],
      "metadata": {
        "colab": {
          "base_uri": "https://localhost:8080/"
        },
        "id": "b3pRuc7fwPqb",
        "outputId": "2d0317dd-bff9-4dd8-ea14-28f61ed86f89"
      },
      "execution_count": 19,
      "outputs": [
        {
          "output_type": "stream",
          "name": "stdout",
          "text": [
            "(2, 4)\n",
            "<dtype: 'int32'>\n",
            "[[ 1  2  3  4]\n",
            " [ 2  4 34 45]]\n"
          ]
        }
      ]
    },
    {
      "cell_type": "code",
      "source": [
        "vectors= tf.constant([[[1,2,3,4],[2,4,34,45]],[[2,4,5,6],[4,5,6,33]]])"
      ],
      "metadata": {
        "id": "xK4m0hG4wW0R"
      },
      "execution_count": 20,
      "outputs": []
    },
    {
      "cell_type": "code",
      "source": [
        "print(vectors.shape)\n",
        "print(vectors.dtype)   #datatype\n",
        "print(vectors.numpy())"
      ],
      "metadata": {
        "colab": {
          "base_uri": "https://localhost:8080/"
        },
        "id": "X-dcJe3swX3y",
        "outputId": "fd69c73d-1316-4288-805a-02d9b8ba397b"
      },
      "execution_count": 21,
      "outputs": [
        {
          "output_type": "stream",
          "name": "stdout",
          "text": [
            "(2, 2, 4)\n",
            "<dtype: 'int32'>\n",
            "[[[ 1  2  3  4]\n",
            "  [ 2  4 34 45]]\n",
            "\n",
            " [[ 2  4  5  6]\n",
            "  [ 4  5  6 33]]]\n"
          ]
        }
      ]
    },
    {
      "cell_type": "code",
      "source": [
        "float_ex= tf.constant([1,2,3,4],dtype=\"float32\")"
      ],
      "metadata": {
        "id": "1HC7CNNaw4GV"
      },
      "execution_count": 22,
      "outputs": []
    },
    {
      "cell_type": "code",
      "source": [
        "float_ex.numpy()"
      ],
      "metadata": {
        "colab": {
          "base_uri": "https://localhost:8080/"
        },
        "id": "Fm5Z3NiTxTsd",
        "outputId": "f49cd71f-bebe-4db8-a945-ad3bb0344a54"
      },
      "execution_count": 23,
      "outputs": [
        {
          "output_type": "execute_result",
          "data": {
            "text/plain": [
              "array([1., 2., 3., 4.], dtype=float32)"
            ]
          },
          "metadata": {},
          "execution_count": 23
        }
      ]
    },
    {
      "cell_type": "markdown",
      "source": [
        "# Heading 1\n",
        "## Heading 2\n",
        "### Heading 3\n",
        "#### This is markdown language also used in github  (uk readme.md - md stands for markdown)\n",
        "\n",
        "[Github](https://github.com)\n",
        "\n",
        "- Tensorflow\n",
        "- PyTorch\n",
        "- Caffe\n",
        "- Onnx\n",
        "\n",
        "```py\n",
        "print('Tensorflow')\n",
        "```\n",
        "```cpp\n",
        "cout<<\"Tensorflow\"\n",
        "```\n",
        "\n",
        "*Tensorflow*\n",
        "\n",
        "**Tensorflow**"
      ],
      "metadata": {
        "id": "sLQxIazXxdb1"
      }
    },
    {
      "cell_type": "markdown",
      "source": [
        "## Zeros\n"
      ],
      "metadata": {
        "id": "uC9TekSMyhrw"
      }
    },
    {
      "cell_type": "code",
      "source": [
        "weights= tf.zeros((3,4),dtype=\"float32\")"
      ],
      "metadata": {
        "id": "tHrhlaixxay1"
      },
      "execution_count": 24,
      "outputs": []
    },
    {
      "cell_type": "code",
      "source": [
        "weights.numpy()"
      ],
      "metadata": {
        "colab": {
          "base_uri": "https://localhost:8080/"
        },
        "id": "FNZVcIU4zA67",
        "outputId": "c0703ea1-51e6-4fa3-c86c-d8fcda8f948d"
      },
      "execution_count": 25,
      "outputs": [
        {
          "output_type": "execute_result",
          "data": {
            "text/plain": [
              "array([[0., 0., 0., 0.],\n",
              "       [0., 0., 0., 0.],\n",
              "       [0., 0., 0., 0.]], dtype=float32)"
            ]
          },
          "metadata": {},
          "execution_count": 25
        }
      ]
    },
    {
      "cell_type": "markdown",
      "source": [
        "## Ones"
      ],
      "metadata": {
        "id": "oHz136RqzK_v"
      }
    },
    {
      "cell_type": "code",
      "source": [
        "ones_ex= tf.ones((5,3,4),dtype=\"float32\")\n",
        "ones_ex1= tf.ones((5,4,3)) # default float values\n",
        "ones_ex.numpy()\n",
        "ones_ex1.numpy()"
      ],
      "metadata": {
        "colab": {
          "base_uri": "https://localhost:8080/"
        },
        "id": "wJW0SAIezPJz",
        "outputId": "1f303a05-be36-4e5c-dd2f-ae8e17553a45"
      },
      "execution_count": 28,
      "outputs": [
        {
          "output_type": "execute_result",
          "data": {
            "text/plain": [
              "array([[[1., 1., 1.],\n",
              "        [1., 1., 1.],\n",
              "        [1., 1., 1.],\n",
              "        [1., 1., 1.]],\n",
              "\n",
              "       [[1., 1., 1.],\n",
              "        [1., 1., 1.],\n",
              "        [1., 1., 1.],\n",
              "        [1., 1., 1.]],\n",
              "\n",
              "       [[1., 1., 1.],\n",
              "        [1., 1., 1.],\n",
              "        [1., 1., 1.],\n",
              "        [1., 1., 1.]],\n",
              "\n",
              "       [[1., 1., 1.],\n",
              "        [1., 1., 1.],\n",
              "        [1., 1., 1.],\n",
              "        [1., 1., 1.]],\n",
              "\n",
              "       [[1., 1., 1.],\n",
              "        [1., 1., 1.],\n",
              "        [1., 1., 1.],\n",
              "        [1., 1., 1.]]], dtype=float32)"
            ]
          },
          "metadata": {},
          "execution_count": 28
        }
      ]
    },
    {
      "cell_type": "code",
      "source": [
        "point_one_example=tf.fill([4,5],0.1)\n",
        "point_one_example.numpy()"
      ],
      "metadata": {
        "colab": {
          "base_uri": "https://localhost:8080/"
        },
        "id": "01beVuMk0LXi",
        "outputId": "3b94ad8a-23c4-4bfd-adfa-a6075f2ee030"
      },
      "execution_count": 33,
      "outputs": [
        {
          "output_type": "execute_result",
          "data": {
            "text/plain": [
              "array([[6, 6, 6, 6, 6],\n",
              "       [6, 6, 6, 6, 6],\n",
              "       [6, 6, 6, 6, 6],\n",
              "       [6, 6, 6, 6, 6]], dtype=int32)"
            ]
          },
          "metadata": {},
          "execution_count": 33
        }
      ]
    },
    {
      "cell_type": "markdown",
      "source": [
        "## Random Tensor"
      ],
      "metadata": {
        "id": "WhazqeNn1H83"
      }
    },
    {
      "cell_type": "code",
      "source": [
        "random_ex=tf.random.uniform((3,4,5))\n",
        "random_ex"
      ],
      "metadata": {
        "colab": {
          "base_uri": "https://localhost:8080/"
        },
        "id": "jtzoUjWW0Kkx",
        "outputId": "15d10e8b-db85-488f-c5c0-c71e754fbeb3"
      },
      "execution_count": 38,
      "outputs": [
        {
          "output_type": "execute_result",
          "data": {
            "text/plain": [
              "<tf.Tensor: shape=(3, 4, 5), dtype=float32, numpy=\n",
              "array([[[0.03665054, 0.8882917 , 0.41159427, 0.7478961 , 0.20781171],\n",
              "        [0.3687253 , 0.44873333, 0.5728297 , 0.39603448, 0.97816205],\n",
              "        [0.93442154, 0.9818332 , 0.40594947, 0.5146961 , 0.987378  ],\n",
              "        [0.23409915, 0.5041369 , 0.13808203, 0.96708083, 0.7904279 ]],\n",
              "\n",
              "       [[0.9779737 , 0.8401041 , 0.58616745, 0.7640431 , 0.2707101 ],\n",
              "        [0.8971776 , 0.90788877, 0.00560677, 0.8653332 , 0.4959817 ],\n",
              "        [0.7597438 , 0.27401412, 0.33309734, 0.9549141 , 0.37973773],\n",
              "        [0.5510566 , 0.43862605, 0.9038342 , 0.87649715, 0.04582953]],\n",
              "\n",
              "       [[0.8481941 , 0.7440734 , 0.15192938, 0.13079417, 0.71207917],\n",
              "        [0.40544546, 0.06713319, 0.16324496, 0.7506423 , 0.05341542],\n",
              "        [0.5075897 , 0.5906161 , 0.3583994 , 0.8753098 , 0.7320225 ],\n",
              "        [0.30334723, 0.40683293, 0.9082401 , 0.7314769 , 0.17215765]]],\n",
              "      dtype=float32)>"
            ]
          },
          "metadata": {},
          "execution_count": 38
        }
      ]
    },
    {
      "cell_type": "code",
      "source": [
        "tf.constant? #command then question mark"
      ],
      "metadata": {
        "id": "dWgBfzZa2pIc"
      },
      "execution_count": 39,
      "outputs": []
    },
    {
      "cell_type": "markdown",
      "source": [
        "## Mathematical Operations"
      ],
      "metadata": {
        "id": "YWFxVM-P3AUN"
      }
    },
    {
      "cell_type": "code",
      "source": [
        "a=tf.constant([1,2,3,4])\n",
        "b=tf.constant([5,6,7,8])\n",
        "res1=a+b  #alternative- tf.add(vector1,vector2)\n",
        "res2=tf.subtract(a,b)\n",
        "res3=tf.math.multiply(a,b)\n",
        "res4=tf.math.divide(a,b)\n",
        "print(res1)\n",
        "print(res2)\n",
        "print(res3)\n",
        "print(res4)"
      ],
      "metadata": {
        "colab": {
          "base_uri": "https://localhost:8080/"
        },
        "id": "1qScrKqU2_jx",
        "outputId": "77f10f99-3287-4fb6-e2ae-b3bdce8846d1"
      },
      "execution_count": 47,
      "outputs": [
        {
          "output_type": "stream",
          "name": "stdout",
          "text": [
            "tf.Tensor([ 6  8 10 12], shape=(4,), dtype=int32)\n",
            "tf.Tensor([-4 -4 -4 -4], shape=(4,), dtype=int32)\n",
            "tf.Tensor([ 5 12 21 32], shape=(4,), dtype=int32)\n",
            "tf.Tensor([0.2        0.33333333 0.42857143 0.5       ], shape=(4,), dtype=float64)\n"
          ]
        }
      ]
    },
    {
      "cell_type": "code",
      "source": [
        "a=tf.random.uniform((2,3))\n",
        "b=tf.random.uniform((3,2))\n",
        "ans= tf.matmul(a,b)\n",
        "print(ans)"
      ],
      "metadata": {
        "colab": {
          "base_uri": "https://localhost:8080/"
        },
        "id": "4SVDk7ib3ma8",
        "outputId": "f9cdcb9d-2359-4024-8b7f-36c41b1e1f5a"
      },
      "execution_count": 44,
      "outputs": [
        {
          "output_type": "stream",
          "name": "stdout",
          "text": [
            "tf.Tensor(\n",
            "[[1.1309843  1.1265975 ]\n",
            " [0.86458135 0.8174542 ]], shape=(2, 2), dtype=float32)\n"
          ]
        }
      ]
    },
    {
      "cell_type": "code",
      "source": [
        "tf.transpose(a)"
      ],
      "metadata": {
        "colab": {
          "base_uri": "https://localhost:8080/"
        },
        "id": "dM6cmLI74bWB",
        "outputId": "71c9613f-930c-4520-c072-fa26292ba845"
      },
      "execution_count": 45,
      "outputs": [
        {
          "output_type": "execute_result",
          "data": {
            "text/plain": [
              "<tf.Tensor: shape=(3, 2), dtype=float32, numpy=\n",
              "array([[0.49802887, 0.24740672],\n",
              "       [0.5910202 , 0.3058238 ],\n",
              "       [0.353168  , 0.66203296]], dtype=float32)>"
            ]
          },
          "metadata": {},
          "execution_count": 45
        }
      ]
    }
  ]
}